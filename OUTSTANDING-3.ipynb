{
 "cells": [
  {
   "cell_type": "code",
   "execution_count": 1,
   "id": "9737c826",
   "metadata": {},
   "outputs": [],
   "source": [
    "import pandas as pd \n",
    "import numpy as np\n",
    "%matplotlib inline\n",
    "import matplotlib.pyplot as plt"
   ]
  },
  {
   "cell_type": "code",
   "execution_count": 2,
   "id": "9786ca14",
   "metadata": {},
   "outputs": [],
   "source": [
    "gender = pd.read_csv('E:\\\\notebook\\\\outstanding_projects\\\\gender.csv')\n",
    "pd.set_option(\"display.max_columns\",None)"
   ]
  },
  {
   "cell_type": "code",
   "execution_count": 3,
   "id": "69670fae",
   "metadata": {},
   "outputs": [
    {
     "data": {
      "text/html": [
       "<div>\n",
       "<style scoped>\n",
       "    .dataframe tbody tr th:only-of-type {\n",
       "        vertical-align: middle;\n",
       "    }\n",
       "\n",
       "    .dataframe tbody tr th {\n",
       "        vertical-align: top;\n",
       "    }\n",
       "\n",
       "    .dataframe thead th {\n",
       "        text-align: right;\n",
       "    }\n",
       "</style>\n",
       "<table border=\"1\" class=\"dataframe\">\n",
       "  <thead>\n",
       "    <tr style=\"text-align: right;\">\n",
       "      <th></th>\n",
       "      <th>_unit_id</th>\n",
       "      <th>_golden</th>\n",
       "      <th>_unit_state</th>\n",
       "      <th>_trusted_judgments</th>\n",
       "      <th>_last_judgment_at</th>\n",
       "      <th>gender</th>\n",
       "      <th>gender:confidence</th>\n",
       "      <th>profile_yn</th>\n",
       "      <th>profile_yn:confidence</th>\n",
       "      <th>created</th>\n",
       "      <th>description</th>\n",
       "      <th>fav_number</th>\n",
       "      <th>gender_gold</th>\n",
       "      <th>link_color</th>\n",
       "      <th>name</th>\n",
       "      <th>profile_yn_gold</th>\n",
       "      <th>profileimage</th>\n",
       "      <th>retweet_count</th>\n",
       "      <th>sidebar_color</th>\n",
       "      <th>text</th>\n",
       "      <th>tweet_coord</th>\n",
       "      <th>tweet_count</th>\n",
       "      <th>tweet_created</th>\n",
       "      <th>tweet_id</th>\n",
       "      <th>tweet_location</th>\n",
       "      <th>user_timezone</th>\n",
       "    </tr>\n",
       "  </thead>\n",
       "  <tbody>\n",
       "    <tr>\n",
       "      <th>0</th>\n",
       "      <td>815719226</td>\n",
       "      <td>False</td>\n",
       "      <td>finalized</td>\n",
       "      <td>3</td>\n",
       "      <td>10/26/15 23:24</td>\n",
       "      <td>male</td>\n",
       "      <td>1.0000</td>\n",
       "      <td>yes</td>\n",
       "      <td>1.0</td>\n",
       "      <td>12/5/13 1:48</td>\n",
       "      <td>i sing my own rhythm.</td>\n",
       "      <td>0</td>\n",
       "      <td>NaN</td>\n",
       "      <td>08C2C2</td>\n",
       "      <td>sheezy0</td>\n",
       "      <td>NaN</td>\n",
       "      <td>https://pbs.twimg.com/profile_images/414342229...</td>\n",
       "      <td>0</td>\n",
       "      <td>FFFFFF</td>\n",
       "      <td>Robbie E Responds To Critics After Win Against...</td>\n",
       "      <td>NaN</td>\n",
       "      <td>110964</td>\n",
       "      <td>10/26/15 12:40</td>\n",
       "      <td>6.587300e+17</td>\n",
       "      <td>main; @Kan1shk3</td>\n",
       "      <td>Chennai</td>\n",
       "    </tr>\n",
       "    <tr>\n",
       "      <th>1</th>\n",
       "      <td>815719227</td>\n",
       "      <td>False</td>\n",
       "      <td>finalized</td>\n",
       "      <td>3</td>\n",
       "      <td>10/26/15 23:30</td>\n",
       "      <td>male</td>\n",
       "      <td>1.0000</td>\n",
       "      <td>yes</td>\n",
       "      <td>1.0</td>\n",
       "      <td>10/1/12 13:51</td>\n",
       "      <td>I'm the author of novels filled with family dr...</td>\n",
       "      <td>68</td>\n",
       "      <td>NaN</td>\n",
       "      <td>0084B4</td>\n",
       "      <td>DavdBurnett</td>\n",
       "      <td>NaN</td>\n",
       "      <td>https://pbs.twimg.com/profile_images/539604221...</td>\n",
       "      <td>0</td>\n",
       "      <td>C0DEED</td>\n",
       "      <td>���It felt like they were my friends and I was...</td>\n",
       "      <td>NaN</td>\n",
       "      <td>7471</td>\n",
       "      <td>10/26/15 12:40</td>\n",
       "      <td>6.587300e+17</td>\n",
       "      <td>NaN</td>\n",
       "      <td>Eastern Time (US &amp; Canada)</td>\n",
       "    </tr>\n",
       "    <tr>\n",
       "      <th>2</th>\n",
       "      <td>815719228</td>\n",
       "      <td>False</td>\n",
       "      <td>finalized</td>\n",
       "      <td>3</td>\n",
       "      <td>10/26/15 23:33</td>\n",
       "      <td>male</td>\n",
       "      <td>0.6625</td>\n",
       "      <td>yes</td>\n",
       "      <td>1.0</td>\n",
       "      <td>11/28/14 11:30</td>\n",
       "      <td>louis whining and squealing and all</td>\n",
       "      <td>7696</td>\n",
       "      <td>NaN</td>\n",
       "      <td>ABB8C2</td>\n",
       "      <td>lwtprettylaugh</td>\n",
       "      <td>NaN</td>\n",
       "      <td>https://pbs.twimg.com/profile_images/657330418...</td>\n",
       "      <td>1</td>\n",
       "      <td>C0DEED</td>\n",
       "      <td>i absolutely adore when louis starts the songs...</td>\n",
       "      <td>NaN</td>\n",
       "      <td>5617</td>\n",
       "      <td>10/26/15 12:40</td>\n",
       "      <td>6.587300e+17</td>\n",
       "      <td>clcncl</td>\n",
       "      <td>Belgrade</td>\n",
       "    </tr>\n",
       "    <tr>\n",
       "      <th>3</th>\n",
       "      <td>815719229</td>\n",
       "      <td>False</td>\n",
       "      <td>finalized</td>\n",
       "      <td>3</td>\n",
       "      <td>10/26/15 23:10</td>\n",
       "      <td>male</td>\n",
       "      <td>1.0000</td>\n",
       "      <td>yes</td>\n",
       "      <td>1.0</td>\n",
       "      <td>6/11/09 22:39</td>\n",
       "      <td>Mobile guy.  49ers, Shazam, Google, Kleiner Pe...</td>\n",
       "      <td>202</td>\n",
       "      <td>NaN</td>\n",
       "      <td>0084B4</td>\n",
       "      <td>douggarland</td>\n",
       "      <td>NaN</td>\n",
       "      <td>https://pbs.twimg.com/profile_images/259703936...</td>\n",
       "      <td>0</td>\n",
       "      <td>C0DEED</td>\n",
       "      <td>Hi @JordanSpieth - Looking at the url - do you...</td>\n",
       "      <td>NaN</td>\n",
       "      <td>1693</td>\n",
       "      <td>10/26/15 12:40</td>\n",
       "      <td>6.587300e+17</td>\n",
       "      <td>Palo Alto, CA</td>\n",
       "      <td>Pacific Time (US &amp; Canada)</td>\n",
       "    </tr>\n",
       "    <tr>\n",
       "      <th>4</th>\n",
       "      <td>815719230</td>\n",
       "      <td>False</td>\n",
       "      <td>finalized</td>\n",
       "      <td>3</td>\n",
       "      <td>10/27/15 1:15</td>\n",
       "      <td>female</td>\n",
       "      <td>1.0000</td>\n",
       "      <td>yes</td>\n",
       "      <td>1.0</td>\n",
       "      <td>4/16/14 13:23</td>\n",
       "      <td>Ricky Wilson The Best FRONTMAN/Kaiser Chiefs T...</td>\n",
       "      <td>37318</td>\n",
       "      <td>NaN</td>\n",
       "      <td>3B94D9</td>\n",
       "      <td>WilfordGemma</td>\n",
       "      <td>NaN</td>\n",
       "      <td>https://pbs.twimg.com/profile_images/564094871...</td>\n",
       "      <td>0</td>\n",
       "      <td>0</td>\n",
       "      <td>Watching Neighbours on Sky+ catching up with t...</td>\n",
       "      <td>NaN</td>\n",
       "      <td>31462</td>\n",
       "      <td>10/26/15 12:40</td>\n",
       "      <td>6.587300e+17</td>\n",
       "      <td>NaN</td>\n",
       "      <td>NaN</td>\n",
       "    </tr>\n",
       "  </tbody>\n",
       "</table>\n",
       "</div>"
      ],
      "text/plain": [
       "    _unit_id  _golden _unit_state  _trusted_judgments _last_judgment_at  \\\n",
       "0  815719226    False   finalized                   3    10/26/15 23:24   \n",
       "1  815719227    False   finalized                   3    10/26/15 23:30   \n",
       "2  815719228    False   finalized                   3    10/26/15 23:33   \n",
       "3  815719229    False   finalized                   3    10/26/15 23:10   \n",
       "4  815719230    False   finalized                   3     10/27/15 1:15   \n",
       "\n",
       "   gender  gender:confidence profile_yn  profile_yn:confidence  \\\n",
       "0    male             1.0000        yes                    1.0   \n",
       "1    male             1.0000        yes                    1.0   \n",
       "2    male             0.6625        yes                    1.0   \n",
       "3    male             1.0000        yes                    1.0   \n",
       "4  female             1.0000        yes                    1.0   \n",
       "\n",
       "          created                                        description  \\\n",
       "0    12/5/13 1:48                              i sing my own rhythm.   \n",
       "1   10/1/12 13:51  I'm the author of novels filled with family dr...   \n",
       "2  11/28/14 11:30                louis whining and squealing and all   \n",
       "3   6/11/09 22:39  Mobile guy.  49ers, Shazam, Google, Kleiner Pe...   \n",
       "4   4/16/14 13:23  Ricky Wilson The Best FRONTMAN/Kaiser Chiefs T...   \n",
       "\n",
       "   fav_number gender_gold link_color            name profile_yn_gold  \\\n",
       "0           0         NaN     08C2C2         sheezy0             NaN   \n",
       "1          68         NaN     0084B4     DavdBurnett             NaN   \n",
       "2        7696         NaN     ABB8C2  lwtprettylaugh             NaN   \n",
       "3         202         NaN     0084B4     douggarland             NaN   \n",
       "4       37318         NaN     3B94D9    WilfordGemma             NaN   \n",
       "\n",
       "                                        profileimage  retweet_count  \\\n",
       "0  https://pbs.twimg.com/profile_images/414342229...              0   \n",
       "1  https://pbs.twimg.com/profile_images/539604221...              0   \n",
       "2  https://pbs.twimg.com/profile_images/657330418...              1   \n",
       "3  https://pbs.twimg.com/profile_images/259703936...              0   \n",
       "4  https://pbs.twimg.com/profile_images/564094871...              0   \n",
       "\n",
       "  sidebar_color                                               text  \\\n",
       "0        FFFFFF  Robbie E Responds To Critics After Win Against...   \n",
       "1        C0DEED  ���It felt like they were my friends and I was...   \n",
       "2        C0DEED  i absolutely adore when louis starts the songs...   \n",
       "3        C0DEED  Hi @JordanSpieth - Looking at the url - do you...   \n",
       "4             0  Watching Neighbours on Sky+ catching up with t...   \n",
       "\n",
       "  tweet_coord  tweet_count   tweet_created      tweet_id   tweet_location  \\\n",
       "0         NaN       110964  10/26/15 12:40  6.587300e+17  main; @Kan1shk3   \n",
       "1         NaN         7471  10/26/15 12:40  6.587300e+17              NaN   \n",
       "2         NaN         5617  10/26/15 12:40  6.587300e+17           clcncl   \n",
       "3         NaN         1693  10/26/15 12:40  6.587300e+17    Palo Alto, CA   \n",
       "4         NaN        31462  10/26/15 12:40  6.587300e+17              NaN   \n",
       "\n",
       "                user_timezone  \n",
       "0                     Chennai  \n",
       "1  Eastern Time (US & Canada)  \n",
       "2                    Belgrade  \n",
       "3  Pacific Time (US & Canada)  \n",
       "4                         NaN  "
      ]
     },
     "execution_count": 3,
     "metadata": {},
     "output_type": "execute_result"
    }
   ],
   "source": [
    "gender.head()"
   ]
  },
  {
   "cell_type": "code",
   "execution_count": 4,
   "id": "e2e6a938",
   "metadata": {},
   "outputs": [
    {
     "data": {
      "text/plain": [
       "(20050, 26)"
      ]
     },
     "execution_count": 4,
     "metadata": {},
     "output_type": "execute_result"
    }
   ],
   "source": [
    "gender.shape"
   ]
  },
  {
   "cell_type": "code",
   "execution_count": 5,
   "id": "b0d917d8",
   "metadata": {},
   "outputs": [
    {
     "data": {
      "text/html": [
       "<div>\n",
       "<style scoped>\n",
       "    .dataframe tbody tr th:only-of-type {\n",
       "        vertical-align: middle;\n",
       "    }\n",
       "\n",
       "    .dataframe tbody tr th {\n",
       "        vertical-align: top;\n",
       "    }\n",
       "\n",
       "    .dataframe thead th {\n",
       "        text-align: right;\n",
       "    }\n",
       "</style>\n",
       "<table border=\"1\" class=\"dataframe\">\n",
       "  <thead>\n",
       "    <tr style=\"text-align: right;\">\n",
       "      <th></th>\n",
       "      <th>_unit_id</th>\n",
       "      <th>_golden</th>\n",
       "      <th>_trusted_judgments</th>\n",
       "      <th>gender:confidence</th>\n",
       "      <th>profile_yn:confidence</th>\n",
       "      <th>fav_number</th>\n",
       "      <th>retweet_count</th>\n",
       "      <th>tweet_count</th>\n",
       "      <th>tweet_id</th>\n",
       "    </tr>\n",
       "  </thead>\n",
       "  <tbody>\n",
       "    <tr>\n",
       "      <th>_unit_id</th>\n",
       "      <td>1.000000</td>\n",
       "      <td>0.208055</td>\n",
       "      <td>0.207651</td>\n",
       "      <td>0.007918</td>\n",
       "      <td>0.015168</td>\n",
       "      <td>0.024878</td>\n",
       "      <td>-0.004337</td>\n",
       "      <td>-0.024809</td>\n",
       "      <td>0.844887</td>\n",
       "    </tr>\n",
       "    <tr>\n",
       "      <th>_golden</th>\n",
       "      <td>0.208055</td>\n",
       "      <td>1.000000</td>\n",
       "      <td>0.998592</td>\n",
       "      <td>0.008818</td>\n",
       "      <td>0.005592</td>\n",
       "      <td>0.003794</td>\n",
       "      <td>-0.000744</td>\n",
       "      <td>-0.009669</td>\n",
       "      <td>-0.005985</td>\n",
       "    </tr>\n",
       "    <tr>\n",
       "      <th>_trusted_judgments</th>\n",
       "      <td>0.207651</td>\n",
       "      <td>0.998592</td>\n",
       "      <td>1.000000</td>\n",
       "      <td>0.009550</td>\n",
       "      <td>0.005543</td>\n",
       "      <td>0.003851</td>\n",
       "      <td>-0.000765</td>\n",
       "      <td>-0.009703</td>\n",
       "      <td>-0.005781</td>\n",
       "    </tr>\n",
       "    <tr>\n",
       "      <th>gender:confidence</th>\n",
       "      <td>0.007918</td>\n",
       "      <td>0.008818</td>\n",
       "      <td>0.009550</td>\n",
       "      <td>1.000000</td>\n",
       "      <td>0.313628</td>\n",
       "      <td>-0.030889</td>\n",
       "      <td>-0.004947</td>\n",
       "      <td>-0.013558</td>\n",
       "      <td>0.027901</td>\n",
       "    </tr>\n",
       "    <tr>\n",
       "      <th>profile_yn:confidence</th>\n",
       "      <td>0.015168</td>\n",
       "      <td>0.005592</td>\n",
       "      <td>0.005543</td>\n",
       "      <td>0.313628</td>\n",
       "      <td>1.000000</td>\n",
       "      <td>-0.003256</td>\n",
       "      <td>0.001376</td>\n",
       "      <td>-0.012665</td>\n",
       "      <td>0.019044</td>\n",
       "    </tr>\n",
       "    <tr>\n",
       "      <th>fav_number</th>\n",
       "      <td>0.024878</td>\n",
       "      <td>0.003794</td>\n",
       "      <td>0.003851</td>\n",
       "      <td>-0.030889</td>\n",
       "      <td>-0.003256</td>\n",
       "      <td>1.000000</td>\n",
       "      <td>0.008274</td>\n",
       "      <td>0.066733</td>\n",
       "      <td>0.041788</td>\n",
       "    </tr>\n",
       "    <tr>\n",
       "      <th>retweet_count</th>\n",
       "      <td>-0.004337</td>\n",
       "      <td>-0.000744</td>\n",
       "      <td>-0.000765</td>\n",
       "      <td>-0.004947</td>\n",
       "      <td>0.001376</td>\n",
       "      <td>0.008274</td>\n",
       "      <td>1.000000</td>\n",
       "      <td>-0.001263</td>\n",
       "      <td>-0.006466</td>\n",
       "    </tr>\n",
       "    <tr>\n",
       "      <th>tweet_count</th>\n",
       "      <td>-0.024809</td>\n",
       "      <td>-0.009669</td>\n",
       "      <td>-0.009703</td>\n",
       "      <td>-0.013558</td>\n",
       "      <td>-0.012665</td>\n",
       "      <td>0.066733</td>\n",
       "      <td>-0.001263</td>\n",
       "      <td>1.000000</td>\n",
       "      <td>-0.037836</td>\n",
       "    </tr>\n",
       "    <tr>\n",
       "      <th>tweet_id</th>\n",
       "      <td>0.844887</td>\n",
       "      <td>-0.005985</td>\n",
       "      <td>-0.005781</td>\n",
       "      <td>0.027901</td>\n",
       "      <td>0.019044</td>\n",
       "      <td>0.041788</td>\n",
       "      <td>-0.006466</td>\n",
       "      <td>-0.037836</td>\n",
       "      <td>1.000000</td>\n",
       "    </tr>\n",
       "  </tbody>\n",
       "</table>\n",
       "</div>"
      ],
      "text/plain": [
       "                       _unit_id   _golden  _trusted_judgments  \\\n",
       "_unit_id               1.000000  0.208055            0.207651   \n",
       "_golden                0.208055  1.000000            0.998592   \n",
       "_trusted_judgments     0.207651  0.998592            1.000000   \n",
       "gender:confidence      0.007918  0.008818            0.009550   \n",
       "profile_yn:confidence  0.015168  0.005592            0.005543   \n",
       "fav_number             0.024878  0.003794            0.003851   \n",
       "retweet_count         -0.004337 -0.000744           -0.000765   \n",
       "tweet_count           -0.024809 -0.009669           -0.009703   \n",
       "tweet_id               0.844887 -0.005985           -0.005781   \n",
       "\n",
       "                       gender:confidence  profile_yn:confidence  fav_number  \\\n",
       "_unit_id                        0.007918               0.015168    0.024878   \n",
       "_golden                         0.008818               0.005592    0.003794   \n",
       "_trusted_judgments              0.009550               0.005543    0.003851   \n",
       "gender:confidence               1.000000               0.313628   -0.030889   \n",
       "profile_yn:confidence           0.313628               1.000000   -0.003256   \n",
       "fav_number                     -0.030889              -0.003256    1.000000   \n",
       "retweet_count                  -0.004947               0.001376    0.008274   \n",
       "tweet_count                    -0.013558              -0.012665    0.066733   \n",
       "tweet_id                        0.027901               0.019044    0.041788   \n",
       "\n",
       "                       retweet_count  tweet_count  tweet_id  \n",
       "_unit_id                   -0.004337    -0.024809  0.844887  \n",
       "_golden                    -0.000744    -0.009669 -0.005985  \n",
       "_trusted_judgments         -0.000765    -0.009703 -0.005781  \n",
       "gender:confidence          -0.004947    -0.013558  0.027901  \n",
       "profile_yn:confidence       0.001376    -0.012665  0.019044  \n",
       "fav_number                  0.008274     0.066733  0.041788  \n",
       "retweet_count               1.000000    -0.001263 -0.006466  \n",
       "tweet_count                -0.001263     1.000000 -0.037836  \n",
       "tweet_id                   -0.006466    -0.037836  1.000000  "
      ]
     },
     "execution_count": 5,
     "metadata": {},
     "output_type": "execute_result"
    }
   ],
   "source": [
    "gender.corr()"
   ]
  },
  {
   "cell_type": "markdown",
   "id": "1c23414a",
   "metadata": {},
   "source": [
    "### Droping unwanted columns"
   ]
  },
  {
   "cell_type": "code",
   "execution_count": 6,
   "id": "b40d4ac7",
   "metadata": {},
   "outputs": [],
   "source": [
    "gender  = gender.drop(columns = ['_unit_id','_golden','_unit_state','_last_judgment_at','created','description','fav_number','link_color','profile_yn_gold','profileimage','text','name','tweet_coord','tweet_created','tweet_id','tweet_location','user_timezone'])"
   ]
  },
  {
   "cell_type": "code",
   "execution_count": 7,
   "id": "a6fcfc14",
   "metadata": {},
   "outputs": [],
   "source": [
    "gender = gender.drop( columns = 'gender_gold')"
   ]
  },
  {
   "cell_type": "code",
   "execution_count": 8,
   "id": "8827a8aa",
   "metadata": {},
   "outputs": [
    {
     "name": "stdout",
     "output_type": "stream",
     "text": [
      "<class 'pandas.core.frame.DataFrame'>\n",
      "RangeIndex: 20050 entries, 0 to 20049\n",
      "Data columns (total 8 columns):\n",
      " #   Column                 Non-Null Count  Dtype  \n",
      "---  ------                 --------------  -----  \n",
      " 0   _trusted_judgments     20050 non-null  int64  \n",
      " 1   gender                 19953 non-null  object \n",
      " 2   gender:confidence      20024 non-null  float64\n",
      " 3   profile_yn             20050 non-null  object \n",
      " 4   profile_yn:confidence  20050 non-null  float64\n",
      " 5   retweet_count          20050 non-null  int64  \n",
      " 6   sidebar_color          20050 non-null  object \n",
      " 7   tweet_count            20050 non-null  int64  \n",
      "dtypes: float64(2), int64(3), object(3)\n",
      "memory usage: 1.2+ MB\n"
     ]
    }
   ],
   "source": [
    "gender.info()"
   ]
  },
  {
   "cell_type": "markdown",
   "id": "7324c1fe",
   "metadata": {},
   "source": [
    "### getting dummies"
   ]
  },
  {
   "cell_type": "code",
   "execution_count": 9,
   "id": "b57d67f3",
   "metadata": {},
   "outputs": [],
   "source": [
    "gender.gender = pd.get_dummies(gender.gender,drop_first=True)\n",
    "gender.profile_yn = pd.get_dummies(gender.profile_yn,drop_first=True)\n",
    "gender.sidebar_color = pd.get_dummies(gender.sidebar_color,drop_first=True)"
   ]
  },
  {
   "cell_type": "code",
   "execution_count": 10,
   "id": "ae703b2e",
   "metadata": {},
   "outputs": [
    {
     "name": "stdout",
     "output_type": "stream",
     "text": [
      "<class 'pandas.core.frame.DataFrame'>\n",
      "RangeIndex: 20050 entries, 0 to 20049\n",
      "Data columns (total 8 columns):\n",
      " #   Column                 Non-Null Count  Dtype  \n",
      "---  ------                 --------------  -----  \n",
      " 0   _trusted_judgments     20050 non-null  int64  \n",
      " 1   gender                 20050 non-null  uint8  \n",
      " 2   gender:confidence      20024 non-null  float64\n",
      " 3   profile_yn             20050 non-null  uint8  \n",
      " 4   profile_yn:confidence  20050 non-null  float64\n",
      " 5   retweet_count          20050 non-null  int64  \n",
      " 6   sidebar_color          20050 non-null  uint8  \n",
      " 7   tweet_count            20050 non-null  int64  \n",
      "dtypes: float64(2), int64(3), uint8(3)\n",
      "memory usage: 842.1 KB\n"
     ]
    }
   ],
   "source": [
    "gender.info()"
   ]
  },
  {
   "cell_type": "code",
   "execution_count": 11,
   "id": "1488fbfa",
   "metadata": {},
   "outputs": [
    {
     "data": {
      "text/plain": [
       "True"
      ]
     },
     "execution_count": 11,
     "metadata": {},
     "output_type": "execute_result"
    }
   ],
   "source": [
    "gender['gender:confidence'].isnull().values.any()"
   ]
  },
  {
   "cell_type": "code",
   "execution_count": 12,
   "id": "0fb3480f",
   "metadata": {},
   "outputs": [],
   "source": [
    "gender['gender:confidence'] = gender['gender:confidence'].fillna(gender['gender:confidence'].mean())"
   ]
  },
  {
   "cell_type": "markdown",
   "id": "de90368e",
   "metadata": {},
   "source": [
    "### Training model"
   ]
  },
  {
   "cell_type": "code",
   "execution_count": 13,
   "id": "3ab23b70",
   "metadata": {},
   "outputs": [],
   "source": [
    "from sklearn.model_selection import train_test_split\n",
    "from sklearn.svm import SVC"
   ]
  },
  {
   "cell_type": "code",
   "execution_count": 14,
   "id": "808fe388",
   "metadata": {},
   "outputs": [],
   "source": [
    "x = gender.drop(columns = 'gender')"
   ]
  },
  {
   "cell_type": "code",
   "execution_count": 15,
   "id": "d7b0ed32",
   "metadata": {},
   "outputs": [
    {
     "data": {
      "text/plain": [
       "Index(['_trusted_judgments', 'gender:confidence', 'profile_yn',\n",
       "       'profile_yn:confidence', 'retweet_count', 'sidebar_color',\n",
       "       'tweet_count'],\n",
       "      dtype='object')"
      ]
     },
     "execution_count": 15,
     "metadata": {},
     "output_type": "execute_result"
    }
   ],
   "source": [
    "x.columns"
   ]
  },
  {
   "cell_type": "code",
   "execution_count": 16,
   "id": "ff509b4e",
   "metadata": {},
   "outputs": [],
   "source": [
    "y = gender['gender']"
   ]
  },
  {
   "cell_type": "code",
   "execution_count": 93,
   "id": "bdd375ee",
   "metadata": {},
   "outputs": [],
   "source": [
    "X_train, X_test, y_train, y_test = train_test_split(x , y , train_size = 0.7)"
   ]
  },
  {
   "cell_type": "code",
   "execution_count": 94,
   "id": "9581e0ee",
   "metadata": {},
   "outputs": [
    {
     "data": {
      "text/plain": [
       "<matplotlib.collections.PathCollection at 0x13ba02ad880>"
      ]
     },
     "execution_count": 94,
     "metadata": {},
     "output_type": "execute_result"
    },
    {
     "data": {
      "image/png": "[encoded data removed]",
      "text/plain": [
       "<Figure size 432x288 with 1 Axes>"
      ]
     },
     "metadata": {
      "needs_background": "light"
     },
     "output_type": "display_data"
    }
   ],
   "source": [
    "plt.scatter(x['gender:confidence'] ,y )"
   ]
  },
  {
   "cell_type": "code",
   "execution_count": 95,
   "id": "bcbd6c4c",
   "metadata": {},
   "outputs": [],
   "source": [
    "svc = SVC(kernel = 'rbf' )"
   ]
  },
  {
   "cell_type": "code",
   "execution_count": 96,
   "id": "0b3fb314",
   "metadata": {},
   "outputs": [
    {
     "data": {
      "text/plain": [
       "SVC()"
      ]
     },
     "execution_count": 96,
     "metadata": {},
     "output_type": "execute_result"
    }
   ],
   "source": [
    "svc.fit(X_train[:500] , y_train[:500])"
   ]
  },
  {
   "cell_type": "code",
   "execution_count": 97,
   "id": "9f4aa312",
   "metadata": {},
   "outputs": [
    {
     "data": {
      "text/plain": [
       "0.6711554447215295"
      ]
     },
     "execution_count": 97,
     "metadata": {},
     "output_type": "execute_result"
    }
   ],
   "source": [
    "svc.score(X_test,y_test)"
   ]
  },
  {
   "cell_type": "code",
   "execution_count": 103,
   "id": "329a384b",
   "metadata": {},
   "outputs": [],
   "source": [
    "pred = svc.predict(X_test)"
   ]
  },
  {
   "cell_type": "code",
   "execution_count": 104,
   "id": "d00fdf71",
   "metadata": {},
   "outputs": [
    {
     "data": {
      "text/plain": [
       "array([0, 0, 0, 0, 0, 0, 0, 0, 0, 0, 0, 0, 0, 0, 0, 0, 0, 0, 0, 0, 0, 0,\n",
       "       0, 0, 0], dtype=uint8)"
      ]
     },
     "execution_count": 104,
     "metadata": {},
     "output_type": "execute_result"
    }
   ],
   "source": [
    "pred[1500:1550:2]"
   ]
  },
  {
   "cell_type": "code",
   "execution_count": 105,
   "id": "f024a966",
   "metadata": {},
   "outputs": [
    {
     "data": {
      "text/plain": [
       "18190    0\n",
       "19312    0\n",
       "5282     0\n",
       "4093     0\n",
       "14119    0\n",
       "17612    1\n",
       "11766    0\n",
       "7691     0\n",
       "20031    0\n",
       "6091     0\n",
       "7851     1\n",
       "11621    0\n",
       "10304    1\n",
       "1774     1\n",
       "11687    1\n",
       "15212    1\n",
       "18967    1\n",
       "16572    0\n",
       "15779    1\n",
       "18700    0\n",
       "12582    0\n",
       "3029     0\n",
       "10599    1\n",
       "10579    0\n",
       "17900    1\n",
       "Name: gender, dtype: uint8"
      ]
     },
     "execution_count": 105,
     "metadata": {},
     "output_type": "execute_result"
    }
   ],
   "source": [
    "y_test[1500:1550:2]"
   ]
  },
  {
   "cell_type": "markdown",
   "id": "c67a5168",
   "metadata": {},
   "source": [
    "### Testing model with LogisticRegression  "
   ]
  },
  {
   "cell_type": "code",
   "execution_count": 98,
   "id": "ad1d3073",
   "metadata": {},
   "outputs": [],
   "source": [
    "from sklearn.linear_model import LogisticRegression"
   ]
  },
  {
   "cell_type": "code",
   "execution_count": 99,
   "id": "eed44203",
   "metadata": {},
   "outputs": [],
   "source": [
    "lr = LogisticRegression()"
   ]
  },
  {
   "cell_type": "code",
   "execution_count": 100,
   "id": "a74b2726",
   "metadata": {},
   "outputs": [
    {
     "data": {
      "text/plain": [
       "LogisticRegression()"
      ]
     },
     "execution_count": 100,
     "metadata": {},
     "output_type": "execute_result"
    }
   ],
   "source": [
    "lr.fit(X_train , y_train)"
   ]
  },
  {
   "cell_type": "code",
   "execution_count": 101,
   "id": "d41c0179",
   "metadata": {},
   "outputs": [
    {
     "data": {
      "text/plain": [
       "array([0, 0, 0, ..., 0, 0, 0], dtype=uint8)"
      ]
     },
     "execution_count": 101,
     "metadata": {},
     "output_type": "execute_result"
    }
   ],
   "source": [
    "lr.predict(X_test)"
   ]
  },
  {
   "cell_type": "code",
   "execution_count": 102,
   "id": "76b08f69",
   "metadata": {},
   "outputs": [
    {
     "data": {
      "text/plain": [
       "0.6713216957605985"
      ]
     },
     "execution_count": 102,
     "metadata": {},
     "output_type": "execute_result"
    }
   ],
   "source": [
    "lr.score(X_test , y_test)"
   ]
  },
  {
   "cell_type": "code",
   "execution_count": null,
   "id": "80f328d1",
   "metadata": {},
   "outputs": [],
   "source": []
  },
  {
   "cell_type": "code",
   "execution_count": null,
   "id": "314e0839",
   "metadata": {},
   "outputs": [],
   "source": []
  }
 ],
 "metadata": {
  "kernelspec": {
   "display_name": "Python 3",
   "language": "python",
   "name": "python3"
  },
  "language_info": {
   "codemirror_mode": {
    "name": "ipython",
    "version": 3
   },
   "file_extension": ".py",
   "mimetype": "text/x-python",
   "name": "python",
   "nbconvert_exporter": "python",
   "pygments_lexer": "ipython3",
   "version": "3.9.2"
  }
 },
 "nbformat": 4,
 "nbformat_minor": 5
}
